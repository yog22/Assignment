{
 "cells": [
  {
   "cell_type": "markdown",
   "id": "113c2f9d-95fc-4301-9ba7-195923ad894c",
   "metadata": {},
   "source": [
    "ASSIGNMENT NO 1"
   ]
  },
  {
   "cell_type": "markdown",
   "id": "3c5f3e9c-6113-43b8-9873-315c0f43d901",
   "metadata": {},
   "source": [
    "1.\n",
    "Guido van Rossum IN 1991"
   ]
  },
  {
   "cell_type": "code",
   "execution_count": null,
   "id": "bb8850cb-c289-42cc-b29c-eb63223a3f80",
   "metadata": {},
   "outputs": [],
   "source": [
    "2..Object-oriented programming and structured programming are fully supported in python language\n"
   ]
  },
  {
   "cell_type": "code",
   "execution_count": null,
   "id": "caf1b160-8c88-4019-accf-32796a1d22be",
   "metadata": {},
   "outputs": [],
   "source": [
    "3.yes,Python is case sensitive language"
   ]
  },
  {
   "cell_type": "code",
   "execution_count": null,
   "id": "e83cc705-467b-4edf-968a-130e8376efca",
   "metadata": {},
   "outputs": [],
   "source": [
    "4..py extention"
   ]
  },
  {
   "cell_type": "code",
   "execution_count": null,
   "id": "35ea0e81-2e4a-4eda-b6f6-b36887a0ce25",
   "metadata": {},
   "outputs": [],
   "source": [
    "5.Python is an interpreted language, which means the source code of a Python program is converted into bytecode that is then executed by the Python virtual machine. Python is different from major compiled languages, such as C and C + +, as Python code is not required to be built and linked like code for these languages."
   ]
  },
  {
   "cell_type": "code",
   "execution_count": null,
   "id": "f99e74b1-9b55-47a0-b3f4-2dec187932f9",
   "metadata": {},
   "outputs": [],
   "source": [
    "6. module, a function body, and a class definition"
   ]
  },
  {
   "cell_type": "code",
   "execution_count": null,
   "id": "f04111c3-f2fa-4a38-adf1-7e0681ee6359",
   "metadata": {},
   "outputs": [],
   "source": [
    "7.###"
   ]
  },
  {
   "cell_type": "code",
   "execution_count": null,
   "id": "cdbf9126-7df9-4b56-aa7c-cd37b9c3cc97",
   "metadata": {},
   "outputs": [],
   "source": [
    "8.sys. version"
   ]
  },
  {
   "cell_type": "code",
   "execution_count": null,
   "id": "814fcdc8-9f6e-45f3-91d8-35b4da2c6675",
   "metadata": {},
   "outputs": [],
   "source": [
    "9.lambda(λ) function"
   ]
  },
  {
   "cell_type": "code",
   "execution_count": null,
   "id": "f9afb2aa-2c03-4883-85c3-8e0003fe5c9b",
   "metadata": {},
   "outputs": [],
   "source": [
    "10.preferred installer program =pip"
   ]
  },
  {
   "cell_type": "code",
   "execution_count": null,
   "id": "c479ee5f-f9d4-461f-984f-2359744ea209",
   "metadata": {},
   "outputs": [],
   "source": [
    "11.type( ) function.\n",
    "   input( ) function.\n",
    "   len()function\n",
    "   .absord()function\n",
    "    count()function\n",
    "    range()function\n",
    "    index()function\n",
    "    max()function\n",
    "    "
   ]
  },
  {
   "cell_type": "code",
   "execution_count": null,
   "id": "14d126ea-0f9c-4b06-974a-b484a99f39ca",
   "metadata": {},
   "outputs": [],
   "source": [
    "12.  79 characters"
   ]
  },
  {
   "cell_type": "code",
   "execution_count": null,
   "id": "649fd005-e6f8-4114-b57e-e909e065d744",
   "metadata": {},
   "outputs": [],
   "source": [
    "13.1.arrange in systematic way\n",
    "   2.easy to understand and devlop\n",
    "   3.Large developer community.\n",
    "   4.Python is one of the most popular programming languages in the world. \n",
    "   5.Python offers a wide range of libraries that can be used across various applications. ...\n",
    "   6.Write less, do more. \n",
    "   7.Wide range of use cases."
   ]
  },
  {
   "cell_type": "code",
   "execution_count": null,
   "id": "ca9d8ed2-c032-4def-a7f0-9a8a7ff5d32f",
   "metadata": {},
   "outputs": [],
   "source": [
    "14.Memory management operates at three levels:\n",
    "   1. Hardware, \n",
    "   2. operating system and \n",
    "   3. program/application"
   ]
  },
  {
   "cell_type": "code",
   "execution_count": null,
   "id": "ffbd505a-3b81-4b57-ae57-de8203aa0de3",
   "metadata": {},
   "outputs": [],
   "source": [
    "15. 1.Right-clicking This PC and going to Properties.\n",
    "\n",
    "    2.Clicking on the Advanced system settings in the menu on the left.\n",
    "\n",
    "    3.Clicking on the Environment Variables button o​n the bottom right.\n",
    "\n",
    "    4.In the System variables section, selecting the Path variable and clicking on Edit. The next screen will show all the directories that are currently a part of the PATH variable.\n",
    "\n",
    "    5.Clicking on New and entering Python’s install directory."
   ]
  },
  {
   "cell_type": "code",
   "execution_count": null,
   "id": "6f0d20f3-dd63-426d-b46e-afd7b62db4fc",
   "metadata": {},
   "outputs": [],
   "source": [
    "16.yes detention in python is important"
   ]
  },
  {
   "cell_type": "code",
   "execution_count": null,
   "id": "0d47a994-2678-4f7d-a6d5-f125ebe30808",
   "metadata": {},
   "outputs": [],
   "source": []
  }
 ],
 "metadata": {
  "kernelspec": {
   "display_name": "Python 3 (ipykernel)",
   "language": "python",
   "name": "python3"
  },
  "language_info": {
   "codemirror_mode": {
    "name": "ipython",
    "version": 3
   },
   "file_extension": ".py",
   "mimetype": "text/x-python",
   "name": "python",
   "nbconvert_exporter": "python",
   "pygments_lexer": "ipython3",
   "version": "3.10.6"
  }
 },
 "nbformat": 4,
 "nbformat_minor": 5
}
